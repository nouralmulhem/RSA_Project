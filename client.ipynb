{
 "cells": [
  {
   "cell_type": "code",
   "execution_count": 2,
   "metadata": {},
   "outputs": [
    {
     "ename": "ModuleNotFoundError",
     "evalue": "No module named 'Crypto'",
     "output_type": "error",
     "traceback": [
      "\u001b[1;31m---------------------------------------------------------------------------\u001b[0m",
      "\u001b[1;31mModuleNotFoundError\u001b[0m                       Traceback (most recent call last)",
      "\u001b[1;32mc:\\Users\\Asus\\Documents\\GitHub\\RSA_Project\\client.ipynb Cell 1\u001b[0m in \u001b[0;36m<cell line: 1>\u001b[1;34m()\u001b[0m\n\u001b[1;32m----> <a href='vscode-notebook-cell:/c%3A/Users/Asus/Documents/GitHub/RSA_Project/client.ipynb#W0sZmlsZQ%3D%3D?line=0'>1</a>\u001b[0m \u001b[39mfrom\u001b[39;00m \u001b[39mCrypto\u001b[39;00m\u001b[39m.\u001b[39;00m\u001b[39mUtil\u001b[39;00m \u001b[39mimport\u001b[39;00m number\n\u001b[0;32m      <a href='vscode-notebook-cell:/c%3A/Users/Asus/Documents/GitHub/RSA_Project/client.ipynb#W0sZmlsZQ%3D%3D?line=1'>2</a>\u001b[0m \u001b[39mimport\u001b[39;00m \u001b[39mmath\u001b[39;00m\n",
      "\u001b[1;31mModuleNotFoundError\u001b[0m: No module named 'Crypto'"
     ]
    }
   ],
   "source": [
    "from Crypto.Util import number\n",
    "import math"
   ]
  },
  {
   "cell_type": "code",
   "execution_count": 3,
   "metadata": {},
   "outputs": [],
   "source": [
    "def map(char):\n",
    "    if ord(char) > 96 and ord(char) < 123:\n",
    "        return ord(char) - 87\n",
    "    elif ord(char) > 47 and ord(char) < 58:\n",
    "        return ord(char) - 48\n",
    "    else: return 36"
   ]
  },
  {
   "cell_type": "code",
   "execution_count": 4,
   "metadata": {},
   "outputs": [],
   "source": [
    "def demap(num):\n",
    "    if num < 10:\n",
    "        return chr(num + 48)\n",
    "    elif num < 36:\n",
    "        return chr(num + 87)\n",
    "    else: return chr(32)"
   ]
  },
  {
   "cell_type": "code",
   "execution_count": 5,
   "metadata": {},
   "outputs": [
    {
     "data": {
      "text/plain": [
       "32822818"
      ]
     },
     "execution_count": 5,
     "metadata": {},
     "output_type": "execute_result"
    }
   ],
   "source": [
    "def encoding(list):\n",
    "    sum = 0\n",
    "    for i in range(5):\n",
    "        sum = sum + map(list[i])*(37**(4-i))\n",
    "    return sum\n",
    "\n",
    "encoding(\"hi s7\")"
   ]
  },
  {
   "cell_type": "code",
   "execution_count": 6,
   "metadata": {},
   "outputs": [
    {
     "name": "stdout",
     "output_type": "stream",
     "text": [
      "hi s7\n"
     ]
    }
   ],
   "source": [
    "def decoding(number):\n",
    "    list = []\n",
    "    sum = 0\n",
    "    for i in range(5):\n",
    "        num = int((number % 37**(i+1) - sum ) / 37**i)\n",
    "        sum = sum + num * 37**i\n",
    "        list.append(demap(num))\n",
    "    return \"\".join(list[::-1])\n",
    "\n",
    "print(decoding(32822818))"
   ]
  },
  {
   "cell_type": "code",
   "execution_count": 7,
   "metadata": {},
   "outputs": [
    {
     "name": "stdout",
     "output_type": "stream",
     "text": [
      "hi s7 how are you i am nour  send 1000 dolar to el bank em  \n"
     ]
    }
   ],
   "source": [
    "def grouping(text):\n",
    "    while len(text)%5 != 0:\n",
    "        text = text + ' '\n",
    "    chunks = [encoding(text[i:i+5]) for i in range(0, len(text), 5)]\n",
    "    print(\"\".join([decoding(chunks[i]) for i in range(0, int(len(text)/5))]))\n",
    "\n",
    "grouping(\"hi s7 how are you i am nour, send 1000 dolar to el bank em\")"
   ]
  },
  {
   "cell_type": "code",
   "execution_count": 8,
   "metadata": {},
   "outputs": [
    {
     "name": "stdout",
     "output_type": "stream",
     "text": [
      "32599429 hello\n"
     ]
    }
   ],
   "source": [
    "string = \"hello\"\n",
    "num = encoding(string)\n",
    "text = decoding(num)\n",
    "print(num, text)"
   ]
  },
  {
   "cell_type": "code",
   "execution_count": 9,
   "metadata": {},
   "outputs": [],
   "source": [
    "def encryption_key(p ,q):\n",
    "    phi_n = (p-1)*(q-1)\n",
    "    e = 2\n",
    "    while(e<phi_n):\n",
    "        if (math.gcd(e, phi_n) == 1):\n",
    "            break\n",
    "        else:\n",
    "            e += 1\n",
    "\n",
    "    return e\n",
    " \n"
   ]
  },
  {
   "cell_type": "code",
   "execution_count": 13,
   "metadata": {},
   "outputs": [
    {
     "name": "stdout",
     "output_type": "stream",
     "text": [
      "616\n",
      "3\n",
      "474.0\n",
      "411\n"
     ]
    },
    {
     "ename": "OverflowError",
     "evalue": "(34, 'Result too large')",
     "output_type": "error",
     "traceback": [
      "\u001b[1;31m---------------------------------------------------------------------------\u001b[0m",
      "\u001b[1;31mOverflowError\u001b[0m                             Traceback (most recent call last)",
      "\u001b[1;32mc:\\Users\\Asus\\Documents\\GitHub\\RSA_Project\\client.ipynb Cell 9\u001b[0m in \u001b[0;36m<cell line: 21>\u001b[1;34m()\u001b[0m\n\u001b[0;32m     <a href='vscode-notebook-cell:/c%3A/Users/Asus/Documents/GitHub/RSA_Project/client.ipynb#X11sZmlsZQ%3D%3D?line=17'>18</a>\u001b[0m \u001b[39mprint\u001b[39m(d)\n\u001b[0;32m     <a href='vscode-notebook-cell:/c%3A/Users/Asus/Documents/GitHub/RSA_Project/client.ipynb#X11sZmlsZQ%3D%3D?line=19'>20</a>\u001b[0m \u001b[39m# m = (c** d) % n\u001b[39;00m\n\u001b[1;32m---> <a href='vscode-notebook-cell:/c%3A/Users/Asus/Documents/GitHub/RSA_Project/client.ipynb#X11sZmlsZQ%3D%3D?line=20'>21</a>\u001b[0m m \u001b[39m=\u001b[39m \u001b[39mpow\u001b[39;49m(c, d)\n\u001b[0;32m     <a href='vscode-notebook-cell:/c%3A/Users/Asus/Documents/GitHub/RSA_Project/client.ipynb#X11sZmlsZQ%3D%3D?line=21'>22</a>\u001b[0m m \u001b[39m=\u001b[39m math\u001b[39m.\u001b[39mfmod(m, n)\n\u001b[0;32m     <a href='vscode-notebook-cell:/c%3A/Users/Asus/Documents/GitHub/RSA_Project/client.ipynb#X11sZmlsZQ%3D%3D?line=22'>23</a>\u001b[0m \u001b[39mprint\u001b[39m(ori_m, m)\n",
      "\u001b[1;31mOverflowError\u001b[0m: (34, 'Result too large')"
     ]
    }
   ],
   "source": [
    "def enc_dec(p, q):\n",
    "    n=p*q\n",
    "    phi_n = (p-1)*(q-1)\n",
    "    print(phi_n)\n",
    "\n",
    "    e = encryption_key(p, q)\n",
    "    print(e)\n",
    "\n",
    "    ori_m = 32599429\n",
    "\n",
    "    # c = (ori_m ** e) % n \n",
    "    c = pow(ori_m, e)\n",
    "    c = math.fmod(c, n)\n",
    "    print(c)\n",
    "\n",
    "    d = pow(e, -1, phi_n)\n",
    "    print(d)\n",
    "\n",
    "    # m = (c** d) % n\n",
    "    m = pow(c, d)\n",
    "    m = math.fmod(m, n)\n",
    "    print(ori_m, m)\n",
    "\n"
   ]
  },
  {
   "cell_type": "code",
   "execution_count": 2,
   "metadata": {},
   "outputs": [
    {
     "name": "stdout",
     "output_type": "stream",
     "text": [
      "[2, 3, 5, 7]\n"
     ]
    }
   ],
   "source": [
    "def isPrime(n):\n",
    "      \n",
    "    # Corner case\n",
    "    if n <= 1 :\n",
    "        return False\n",
    "  \n",
    "    # check from 2 to n-1\n",
    "    for i in range(2, n):\n",
    "        if n % i == 0:\n",
    "            return False\n",
    "  \n",
    "    return True\n",
    "\n",
    "list = []\n",
    "def printPrime(n):\n",
    "    for i in range(2, n + 1):\n",
    "        if isPrime(i):\n",
    "            list.append(i)\n",
    "printPrime(226791289 // 2)\n",
    "print(list)"
   ]
  },
  {
   "cell_type": "code",
   "execution_count": null,
   "metadata": {},
   "outputs": [],
   "source": [
    "\n",
    "\n",
    "###########################################\n",
    "# attack plain-cipher pairs\n",
    "###########################################\n",
    "def attack(plain, cipher, n, pu):\n",
    "    for x in list:\n",
    "        for y in list:\n",
    "            new_n = x*y\n",
    "            if cipher == PowMod(plain, pu, new_n):\n",
    "                return x, y, sp.mod_inverse(pu,(x-1)*(y-1)), new_n\n",
    "\n",
    "x, y, pr, n = attack(encoding(\"hello\"), 20265125, 226791289, 142671923)\n",
    "print(\"n = \", n)"
   ]
  }
 ],
 "metadata": {
  "kernelspec": {
   "display_name": "base",
   "language": "python",
   "name": "python3"
  },
  "language_info": {
   "codemirror_mode": {
    "name": "ipython",
    "version": 3
   },
   "file_extension": ".py",
   "mimetype": "text/x-python",
   "name": "python",
   "nbconvert_exporter": "python",
   "pygments_lexer": "ipython3",
   "version": "3.9.12"
  },
  "orig_nbformat": 4,
  "vscode": {
   "interpreter": {
    "hash": "52d90d3cc821dd0beedd6e719dbdecc722c226b9d90ed1b663c34e1877f1142e"
   }
  }
 },
 "nbformat": 4,
 "nbformat_minor": 2
}
