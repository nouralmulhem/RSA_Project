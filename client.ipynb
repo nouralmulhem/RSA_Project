{
 "cells": [
  {
   "cell_type": "code",
   "execution_count": 23,
   "metadata": {},
   "outputs": [],
   "source": [
    "import math"
   ]
  },
  {
   "cell_type": "code",
   "execution_count": 24,
   "metadata": {},
   "outputs": [],
   "source": [
    "def map(char):\n",
    "    if ord(char) > 96 and ord(char) < 123:\n",
    "        return ord(char) - 87\n",
    "    elif ord(char) > 47 and ord(char) < 58:\n",
    "        return ord(char) - 48\n",
    "    else: return 36"
   ]
  },
  {
   "cell_type": "code",
   "execution_count": 25,
   "metadata": {},
   "outputs": [],
   "source": [
    "def demap(num):\n",
    "    if num < 10:\n",
    "        return chr(num + 48)\n",
    "    elif num < 36:\n",
    "        return chr(num + 87)\n",
    "    else: return chr(32)"
   ]
  },
  {
   "cell_type": "code",
   "execution_count": 26,
   "metadata": {},
   "outputs": [
    {
     "data": {
      "text/plain": [
       "32822818"
      ]
     },
     "execution_count": 26,
     "metadata": {},
     "output_type": "execute_result"
    }
   ],
   "source": [
    "def encoding(list):\n",
    "    sum = 0\n",
    "    for i in range(5):\n",
    "        sum = sum + map(list[i])*(37**(4-i))\n",
    "    return sum\n",
    "\n",
    "encoding(\"hi s7\")"
   ]
  },
  {
   "cell_type": "code",
   "execution_count": 27,
   "metadata": {},
   "outputs": [
    {
     "name": "stdout",
     "output_type": "stream",
     "text": [
      "hi s7\n"
     ]
    }
   ],
   "source": [
    "def decoding(number):\n",
    "    list = []\n",
    "    sum = 0\n",
    "    for i in range(5):\n",
    "        num = int((number % 37**(i+1) - sum ) / 37**i)\n",
    "        sum = sum + num * 37**i\n",
    "        list.append(demap(num))\n",
    "    return \"\".join(list[::-1])\n",
    "\n",
    "print(decoding(32822818))"
   ]
  },
  {
   "cell_type": "code",
   "execution_count": 28,
   "metadata": {},
   "outputs": [
    {
     "name": "stdout",
     "output_type": "stream",
     "text": [
      "hi s7 how are you i am nour  send 1000 dolar to el bank em  \n"
     ]
    }
   ],
   "source": [
    "def grouping(text):\n",
    "    while len(text)%5 != 0:\n",
    "        text = text + ' '\n",
    "    chunks = [encoding(text[i:i+5]) for i in range(0, len(text), 5)]\n",
    "    print(\"\".join([decoding(chunks[i]) for i in range(0, int(len(text)/5))]))\n",
    "\n",
    "grouping(\"hi s7 how are you i am nour, send 1000 dolar to el bank em\")"
   ]
  },
  {
   "cell_type": "code",
   "execution_count": 29,
   "metadata": {},
   "outputs": [
    {
     "name": "stdout",
     "output_type": "stream",
     "text": [
      "32599429 hello\n"
     ]
    }
   ],
   "source": [
    "string = \"hello\"\n",
    "num = encoding(string)\n",
    "text = decoding(num)\n",
    "print(num, text)"
   ]
  },
  {
   "cell_type": "code",
   "execution_count": 42,
   "metadata": {},
   "outputs": [
    {
     "name": "stdout",
     "output_type": "stream",
     "text": [
      "5\n"
     ]
    }
   ],
   "source": [
    "def encryption_key(p ,q):\n",
    "    phi_n = (p-1)*(q-1)\n",
    "    e = 2\n",
    "    while(e<phi_n):\n",
    "        if (math.gcd(e, phi_n) == 1):\n",
    "            break\n",
    "        else:\n",
    "            e += 1\n",
    "\n",
    "    return e\n",
    " \n"
   ]
  },
  {
   "cell_type": "code",
   "execution_count": 55,
   "metadata": {},
   "outputs": [
    {
     "name": "stdout",
     "output_type": "stream",
     "text": [
      "3\n",
      "13.0\n",
      "7\n",
      "32599429 7.0\n"
     ]
    }
   ],
   "source": [
    "q = 3\n",
    "p = 11\n",
    "n = p*q\n",
    "phi_n = (p-1)*(q-1)\n",
    "\n",
    "e = encryption_key(p, q)\n",
    "print(e)\n",
    "\n",
    "ori_m = 32599429\n",
    "\n",
    "# c = (ori_m ** e) % n \n",
    "c = pow(ori_m, e)\n",
    "c = math.fmod(c, n)\n",
    "print(c)\n",
    "\n",
    "d = pow(e, -1, phi_n)\n",
    "print(d)\n",
    "\n",
    "# m = (c** d) % n\n",
    "m = pow(c, d)\n",
    "m = math.fmod(m, n)\n",
    "print(ori_m, m)\n",
    "\n"
   ]
  },
  {
   "cell_type": "code",
   "execution_count": null,
   "metadata": {},
   "outputs": [],
   "source": []
  }
 ],
 "metadata": {
  "kernelspec": {
   "display_name": "base",
   "language": "python",
   "name": "python3"
  },
  "language_info": {
   "codemirror_mode": {
    "name": "ipython",
    "version": 3
   },
   "file_extension": ".py",
   "mimetype": "text/x-python",
   "name": "python",
   "nbconvert_exporter": "python",
   "pygments_lexer": "ipython3",
   "version": "3.9.12"
  },
  "orig_nbformat": 4
 },
 "nbformat": 4,
 "nbformat_minor": 2
}
